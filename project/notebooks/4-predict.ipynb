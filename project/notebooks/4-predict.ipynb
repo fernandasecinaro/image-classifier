{
 "cells": [
  {
   "cell_type": "code",
   "execution_count": 50,
   "metadata": {},
   "outputs": [],
   "source": [
    "from tensorflow.keras.preprocessing.image import load_img, img_to_array, smart_resize\n",
    "from tensorflow import reshape\n",
    "from tensorflow.keras.models import load_model\n",
    "import np\n",
    "\n",
    "THRESHOLD = 0.8\n",
    "\n",
    "def predict(filename):\n",
    "    test_img_path = \"../../extra-images/\" + filename\n",
    "    img = load_img(test_img_path)\n",
    "    img = img_to_array(img)\n",
    "    img = smart_resize(img, (150, 150))\n",
    "    img = reshape(img, (-1, 150, 150, 3))\n",
    "    model = load_model('model.keras')\n",
    "    prediction = model.predict(img/255)\n",
    "    print(prediction)\n",
    "    max_prob = np.argmax(prediction)\n",
    "    if max_prob < THRESHOLD:\n",
    "        print(\"other\")\n",
    "    else:\n",
    "        print(max_prob)\n"
   ]
  },
  {
   "cell_type": "code",
   "execution_count": 51,
   "metadata": {},
   "outputs": [
    {
     "name": "stdout",
     "output_type": "stream",
     "text": [
      "\u001b[1m1/1\u001b[0m \u001b[32m━━━━━━━━━━━━━━━━━━━━\u001b[0m\u001b[37m\u001b[0m \u001b[1m1s\u001b[0m 807ms/step\n",
      "[[3.2387726e-04 6.8088526e-01 1.5045878e-03 3.1728628e-01]]\n",
      "1\n"
     ]
    }
   ],
   "source": [
    "# To predict a new image:\n",
    "# 1. Add the image to \"extra-images\" folder  \n",
    "# 2. Change the argument of the call below to the filename you want to predict\n",
    "\n",
    "predict(\"border.jpeg\")"
   ]
  }
 ],
 "metadata": {
  "kernelspec": {
   "display_name": "image-classifier",
   "language": "python",
   "name": "image-classifier"
  },
  "language_info": {
   "codemirror_mode": {
    "name": "ipython",
    "version": 3
   },
   "file_extension": ".py",
   "mimetype": "text/x-python",
   "name": "python",
   "nbconvert_exporter": "python",
   "pygments_lexer": "ipython3",
   "version": "3.12.5"
  }
 },
 "nbformat": 4,
 "nbformat_minor": 2
}
